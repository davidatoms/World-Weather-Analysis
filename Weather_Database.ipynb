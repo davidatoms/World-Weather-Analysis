{
 "cells": [
  {
   "cell_type": "code",
   "execution_count": 2,
   "metadata": {},
   "outputs": [],
   "source": [
    "# Dependencies and Setup\n",
    "import pandas as pd\n",
    "import matplotlib as plt\n",
    "import numpy as np\n",
    "from datetime import datetime\n",
    "from scipy import stats\n",
    "from matplotlib import pyplot"
   ]
  },
  {
   "cell_type": "code",
   "execution_count": 3,
   "metadata": {},
   "outputs": [],
   "source": [
    "# Import the requests library\n",
    "import requests\n",
    "\n",
    "# Import the API key\n",
    "from config import weather_api_key"
   ]
  },
  {
   "cell_type": "code",
   "execution_count": 4,
   "metadata": {},
   "outputs": [
    {
     "name": "stdout",
     "output_type": "stream",
     "text": [
      "http://api.openweathermap.org/data/2.5/weather?units=Imperial&APPID=5cc9ad261292a20b92a7bc8c2d2ac550\n"
     ]
    }
   ],
   "source": [
    "# Starting URL for WeatherMap API call\n",
    "url = \"http://api.openweathermap.org/data/2.5/weather?units=Imperial&APPID=\" + weather_api_key\n",
    "print(url)"
   ]
  },
  {
   "cell_type": "code",
   "execution_count": 5,
   "metadata": {},
   "outputs": [
    {
     "data": {
      "text/plain": [
       "<zip at 0x7f8e00622f80>"
      ]
     },
     "execution_count": 5,
     "metadata": {},
     "output_type": "execute_result"
    }
   ],
   "source": [
    "# Create a new set of random latitude and longitude combinations for 2000 random cities\n",
    "lats = np.random.uniform(low=-90.000, high=90.000, size=2000)\n",
    "lngs = np.random.uniform(low=-180.000, high=180.000, size=2000)\n",
    "lat_lngs = zip(lats, lngs)\n",
    "lat_lngs"
   ]
  },
  {
   "cell_type": "code",
   "execution_count": 6,
   "metadata": {},
   "outputs": [],
   "source": [
    "# Get the nearest city using the citpy module\n",
    "from citipy import citipy"
   ]
  },
  {
   "cell_type": "code",
   "execution_count": 7,
   "metadata": {},
   "outputs": [
    {
     "data": {
      "text/plain": [
       "741"
      ]
     },
     "execution_count": 7,
     "metadata": {},
     "output_type": "execute_result"
    }
   ],
   "source": [
    "# Create a list to hold all of the cities\n",
    "cities = []\n",
    "\n",
    "# Identify the nearest city for each latitude and longitutde combination\n",
    "for lat_lng in lat_lngs:\n",
    "    city = citipy.nearest_city(lat_lng[0], lat_lng[1]).city_name\n",
    "    \n",
    "    # If the city is unique, then we will add it to the cities list\n",
    "    if city not in cities:\n",
    "        cities.append(city)\n",
    "\n",
    "# Print the city count to confirm sufficent count\n",
    "len(cities)"
   ]
  },
  {
   "cell_type": "code",
   "execution_count": 8,
   "metadata": {},
   "outputs": [
    {
     "name": "stdout",
     "output_type": "stream",
     "text": [
      "Beginning Data Retrieval    \n",
      "----------------------------\n"
     ]
    }
   ],
   "source": [
    "# Create an empty list to hold all the weather data for the cities\n",
    "city_data = []\n",
    "\n",
    "# Print the beginning of the logging process\n",
    "print(\"Beginning Data Retrieval    \")\n",
    "print(\"----------------------------\")\n",
    "\n",
    "# Create counters\n",
    "record_count = 1\n",
    "set_count = 1"
   ]
  },
  {
   "cell_type": "code",
   "execution_count": null,
   "metadata": {},
   "outputs": [
    {
     "name": "stdout",
     "output_type": "stream",
     "text": [
      "Processing Record 1 of Set 1 | butaritari\n",
      "Processing Record 2 of Set 1 | broome\n",
      "Processing Record 3 of Set 1 | hermanus\n",
      "Processing Record 4 of Set 1 | punta arenas\n",
      "Processing Record 5 of Set 1 | agadir\n",
      "Processing Record 6 of Set 1 | lluta\n",
      "Processing Record 7 of Set 1 | uruzgan\n",
      "Processing Record 8 of Set 1 | madang\n",
      "Processing Record 9 of Set 1 | evensk\n",
      "Processing Record 10 of Set 1 | awjilah\n",
      "Processing Record 11 of Set 1 | saint-joseph\n",
      "Processing Record 12 of Set 1 | barentsburg\n",
      "City not found. Skipping...\n",
      "Processing Record 13 of Set 1 | ushuaia\n",
      "Processing Record 14 of Set 1 | aden\n",
      "Processing Record 15 of Set 1 | mao\n",
      "Processing Record 16 of Set 1 | bayir\n",
      "Processing Record 17 of Set 1 | bredasdorp\n",
      "Processing Record 18 of Set 1 | chokurdakh\n",
      "Processing Record 19 of Set 1 | barrow\n",
      "Processing Record 20 of Set 1 | pierre\n",
      "Processing Record 21 of Set 1 | nyimba\n",
      "Processing Record 22 of Set 1 | saint-philippe\n",
      "Processing Record 23 of Set 1 | port alfred\n",
      "Processing Record 24 of Set 1 | upernavik\n",
      "Processing Record 25 of Set 1 | miyako\n",
      "Processing Record 26 of Set 1 | qaanaaq\n",
      "Processing Record 27 of Set 1 | rikitea\n",
      "Processing Record 28 of Set 1 | lagoa\n",
      "Processing Record 29 of Set 1 | kodiak\n",
      "Processing Record 30 of Set 1 | fairbanks\n",
      "Processing Record 31 of Set 1 | taolanaro\n",
      "City not found. Skipping...\n",
      "Processing Record 32 of Set 1 | provideniya\n",
      "Processing Record 33 of Set 1 | bo phloi\n",
      "Processing Record 34 of Set 1 | talnakh\n",
      "Processing Record 35 of Set 1 | dikson\n",
      "Processing Record 36 of Set 1 | gorno-chuyskiy\n",
      "City not found. Skipping...\n",
      "Processing Record 37 of Set 1 | hithadhoo\n",
      "Processing Record 38 of Set 1 | touros\n",
      "Processing Record 39 of Set 1 | yellowknife\n",
      "Processing Record 40 of Set 1 | bluff\n",
      "Processing Record 41 of Set 1 | east london\n",
      "Processing Record 42 of Set 1 | busselton\n",
      "Processing Record 43 of Set 1 | worthington\n",
      "Processing Record 44 of Set 1 | raudeberg\n",
      "Processing Record 45 of Set 1 | carnarvon\n",
      "Processing Record 46 of Set 1 | kapaa\n",
      "Processing Record 47 of Set 1 | bloomingdale\n",
      "Processing Record 48 of Set 1 | port blair\n",
      "Processing Record 49 of Set 1 | norman wells\n",
      "Processing Record 50 of Set 1 | nikolskoye\n",
      "Processing Record 1 of Set 2 | areia branca\n",
      "Processing Record 2 of Set 2 | youkounkoun\n",
      "Processing Record 3 of Set 2 | lakatoro\n",
      "Processing Record 4 of Set 2 | itarema\n",
      "Processing Record 5 of Set 2 | lebu\n",
      "Processing Record 6 of Set 2 | port elizabeth\n",
      "Processing Record 7 of Set 2 | illoqqortoormiut\n",
      "City not found. Skipping...\n",
      "Processing Record 8 of Set 2 | pevek\n",
      "Processing Record 9 of Set 2 | bandarbeyla\n",
      "Processing Record 10 of Set 2 | malwan\n"
     ]
    }
   ],
   "source": [
    "# Loop through all the cities in the list.\n",
    "for i, city in enumerate(cities):\n",
    "\n",
    "    # Group cities in sets of 50 for logging purposes.\n",
    "    if (i % 50 == 0 and i >= 50):\n",
    "        set_count += 1\n",
    "        record_count = 1\n",
    "    # Create endpoint URL with each city.\n",
    "    city_url = url + \"&q=\" + city\n",
    "\n",
    "    # Log the URL, record, and set numbers and the city.\n",
    "    print(f\"Processing Record {record_count} of Set {set_count} | {city}\")\n",
    "    # Add 1 to the record count.\n",
    "    record_count += 1\n",
    "    # Run an API request for each of the cities.\n",
    "    try:\n",
    "        # Parse the JSON and retrieve data.\n",
    "        city_weather = requests.get(city_url).json()\n",
    "        # Parse out the needed data.\n",
    "        city_lat = city_weather[\"coord\"][\"lat\"]\n",
    "        city_lng = city_weather[\"coord\"][\"lon\"]\n",
    "        city_max_temp = city_weather[\"main\"][\"temp_max\"]\n",
    "        city_humidity = city_weather[\"main\"][\"humidity\"]\n",
    "        city_clouds = city_weather[\"clouds\"][\"all\"]\n",
    "        city_wind = city_weather[\"wind\"][\"speed\"]\n",
    "        city_country = city_weather[\"sys\"][\"country\"]\n",
    "        weather_description = city_weather[\"weather\"][0][\"description\"]\n",
    "        \n",
    "        try:\n",
    "            rain_inches = city_weather[\"rain\"][\"3h\"]\n",
    "        except:\n",
    "            rain_inches = (\"0\")\n",
    "            pass\n",
    "        try:\n",
    "            snow_inches = city_weather[\"snow\"][\"3h\"]\n",
    "        except:\n",
    "            snow_inches = (\"0\")  \n",
    "            pass\n",
    "        \n",
    "        # Convert the date to ISO standard.\n",
    "        city_date = datetime.utcfromtimestamp(city_weather[\"dt\"]).strftime('%Y-%m-%d %H:%M:%S')\n",
    "        # Append the city information into city_data list.\n",
    "        city_data.append({\"City\": city.title(),\n",
    "                          \"Country\": city_country,\n",
    "                          \"Date\": city_date,\n",
    "                          \"Lat\": city_lat,\n",
    "                          \"Lng\": city_lng,\n",
    "                          \"Max Temp\": city_max_temp,\n",
    "                          \"Humidity\": city_humidity,\n",
    "                          \"Cloudiness\": city_clouds,\n",
    "                          \"Wind Speed\": city_wind,\n",
    "                          \"Current Description\": weather_description,\n",
    "                          \"Rain inches (last 3 hours)\": rain_inches,\n",
    "                          \"Snow inches (last 3 hours)\": snow_inches})\n",
    "\n",
    "    # If an error is experienced, skip the city.\n",
    "    except:\n",
    "        print(\"City not found. Skipping...\")\n",
    "        pass\n",
    "\n",
    "# Indicate that Data Loading is complete.\n",
    "print(\"-----------------------------\")\n",
    "print(\"Data Retrieval Complete      \")\n",
    "print(\"-----------------------------\")"
   ]
  },
  {
   "cell_type": "code",
   "execution_count": null,
   "metadata": {
    "scrolled": true
   },
   "outputs": [],
   "source": [
    "# Add the data to a new dataframe\n",
    "city_data_df = pd.DataFrame(city_data)\n",
    "city_data_df"
   ]
  },
  {
   "cell_type": "code",
   "execution_count": null,
   "metadata": {},
   "outputs": [],
   "source": [
    "# Create the output file (CSV).\n",
    "output_data_file = \"Vacation_Search/Weather_Database/WeatherPy_Database.csv\"\n",
    "# Export the City_Data into a CSV.\n",
    "city_data_df.to_csv(output_data_file, index_label=\"City_ID\")"
   ]
  },
  {
   "cell_type": "code",
   "execution_count": null,
   "metadata": {},
   "outputs": [],
   "source": []
  }
 ],
 "metadata": {
  "kernelspec": {
   "display_name": "myenv",
   "language": "python",
   "name": "myenv"
  },
  "language_info": {
   "codemirror_mode": {
    "name": "ipython",
    "version": 3
   },
   "file_extension": ".py",
   "mimetype": "text/x-python",
   "name": "python",
   "nbconvert_exporter": "python",
   "pygments_lexer": "ipython3",
   "version": "3.8.3"
  }
 },
 "nbformat": 4,
 "nbformat_minor": 4
}
