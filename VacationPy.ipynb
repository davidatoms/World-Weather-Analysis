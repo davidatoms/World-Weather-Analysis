{
 "cells": [
  {
   "cell_type": "code",
   "execution_count": 2,
   "metadata": {},
   "outputs": [],
   "source": [
    "# Import the dependencies\n",
    "import pandas as pd\n",
    "import gmaps\n",
    "import requests"
   ]
  },
  {
   "cell_type": "code",
   "execution_count": 3,
   "metadata": {},
   "outputs": [],
   "source": [
    "# Import the API Keys\n",
    "from config import g_key"
   ]
  },
  {
   "cell_type": "code",
   "execution_count": 22,
   "metadata": {},
   "outputs": [
    {
     "data": {
      "text/html": [
       "<div>\n",
       "<style scoped>\n",
       "    .dataframe tbody tr th:only-of-type {\n",
       "        vertical-align: middle;\n",
       "    }\n",
       "\n",
       "    .dataframe tbody tr th {\n",
       "        vertical-align: top;\n",
       "    }\n",
       "\n",
       "    .dataframe thead th {\n",
       "        text-align: right;\n",
       "    }\n",
       "</style>\n",
       "<table border=\"1\" class=\"dataframe\">\n",
       "  <thead>\n",
       "    <tr style=\"text-align: right;\">\n",
       "      <th></th>\n",
       "      <th>City_ID</th>\n",
       "      <th>City</th>\n",
       "      <th>Lat</th>\n",
       "      <th>Lng</th>\n",
       "      <th>Max Temp</th>\n",
       "      <th>Humidity</th>\n",
       "      <th>Cloudiness</th>\n",
       "      <th>Wind Speed</th>\n",
       "      <th>Country</th>\n",
       "      <th>Date</th>\n",
       "      <th>Current Description</th>\n",
       "    </tr>\n",
       "  </thead>\n",
       "  <tbody>\n",
       "    <tr>\n",
       "      <th>0</th>\n",
       "      <td>0</td>\n",
       "      <td>Barrow</td>\n",
       "      <td>71.2906</td>\n",
       "      <td>-156.7887</td>\n",
       "      <td>-9.40</td>\n",
       "      <td>70</td>\n",
       "      <td>90</td>\n",
       "      <td>8.05</td>\n",
       "      <td>US</td>\n",
       "      <td>2021-02-12 22:54:20</td>\n",
       "      <td>overcast clouds</td>\n",
       "    </tr>\n",
       "    <tr>\n",
       "      <th>1</th>\n",
       "      <td>1</td>\n",
       "      <td>Griffith</td>\n",
       "      <td>41.5284</td>\n",
       "      <td>-87.4237</td>\n",
       "      <td>18.00</td>\n",
       "      <td>67</td>\n",
       "      <td>40</td>\n",
       "      <td>11.50</td>\n",
       "      <td>US</td>\n",
       "      <td>2021-02-12 22:54:20</td>\n",
       "      <td>light snow</td>\n",
       "    </tr>\n",
       "    <tr>\n",
       "      <th>2</th>\n",
       "      <td>2</td>\n",
       "      <td>Littleton</td>\n",
       "      <td>39.6133</td>\n",
       "      <td>-105.0166</td>\n",
       "      <td>12.20</td>\n",
       "      <td>57</td>\n",
       "      <td>75</td>\n",
       "      <td>13.80</td>\n",
       "      <td>US</td>\n",
       "      <td>2021-02-12 22:54:11</td>\n",
       "      <td>haze</td>\n",
       "    </tr>\n",
       "    <tr>\n",
       "      <th>3</th>\n",
       "      <td>3</td>\n",
       "      <td>Provideniya</td>\n",
       "      <td>64.3833</td>\n",
       "      <td>-173.3000</td>\n",
       "      <td>-1.12</td>\n",
       "      <td>88</td>\n",
       "      <td>99</td>\n",
       "      <td>31.52</td>\n",
       "      <td>RU</td>\n",
       "      <td>2021-02-12 22:54:21</td>\n",
       "      <td>light snow</td>\n",
       "    </tr>\n",
       "    <tr>\n",
       "      <th>4</th>\n",
       "      <td>4</td>\n",
       "      <td>Busselton</td>\n",
       "      <td>-33.6500</td>\n",
       "      <td>115.3333</td>\n",
       "      <td>60.01</td>\n",
       "      <td>87</td>\n",
       "      <td>1</td>\n",
       "      <td>1.01</td>\n",
       "      <td>AU</td>\n",
       "      <td>2021-02-12 22:54:21</td>\n",
       "      <td>clear sky</td>\n",
       "    </tr>\n",
       "    <tr>\n",
       "      <th>...</th>\n",
       "      <td>...</td>\n",
       "      <td>...</td>\n",
       "      <td>...</td>\n",
       "      <td>...</td>\n",
       "      <td>...</td>\n",
       "      <td>...</td>\n",
       "      <td>...</td>\n",
       "      <td>...</td>\n",
       "      <td>...</td>\n",
       "      <td>...</td>\n",
       "      <td>...</td>\n",
       "    </tr>\n",
       "    <tr>\n",
       "      <th>550</th>\n",
       "      <td>550</td>\n",
       "      <td>Tsaratanana</td>\n",
       "      <td>-16.7833</td>\n",
       "      <td>47.6500</td>\n",
       "      <td>73.42</td>\n",
       "      <td>83</td>\n",
       "      <td>99</td>\n",
       "      <td>2.75</td>\n",
       "      <td>MG</td>\n",
       "      <td>2021-02-12 22:55:38</td>\n",
       "      <td>light rain</td>\n",
       "    </tr>\n",
       "    <tr>\n",
       "      <th>551</th>\n",
       "      <td>551</td>\n",
       "      <td>Capinopolis</td>\n",
       "      <td>-18.6819</td>\n",
       "      <td>-49.5697</td>\n",
       "      <td>69.53</td>\n",
       "      <td>92</td>\n",
       "      <td>100</td>\n",
       "      <td>6.73</td>\n",
       "      <td>BR</td>\n",
       "      <td>2021-02-12 22:55:38</td>\n",
       "      <td>overcast clouds</td>\n",
       "    </tr>\n",
       "    <tr>\n",
       "      <th>552</th>\n",
       "      <td>552</td>\n",
       "      <td>Ukiah</td>\n",
       "      <td>39.1502</td>\n",
       "      <td>-123.2078</td>\n",
       "      <td>55.40</td>\n",
       "      <td>67</td>\n",
       "      <td>90</td>\n",
       "      <td>12.66</td>\n",
       "      <td>US</td>\n",
       "      <td>2021-02-12 22:51:11</td>\n",
       "      <td>overcast clouds</td>\n",
       "    </tr>\n",
       "    <tr>\n",
       "      <th>553</th>\n",
       "      <td>553</td>\n",
       "      <td>New Braunfels</td>\n",
       "      <td>29.7030</td>\n",
       "      <td>-98.1245</td>\n",
       "      <td>34.00</td>\n",
       "      <td>87</td>\n",
       "      <td>95</td>\n",
       "      <td>4.00</td>\n",
       "      <td>US</td>\n",
       "      <td>2021-02-12 22:55:39</td>\n",
       "      <td>overcast clouds</td>\n",
       "    </tr>\n",
       "    <tr>\n",
       "      <th>554</th>\n",
       "      <td>554</td>\n",
       "      <td>Meulaboh</td>\n",
       "      <td>4.1363</td>\n",
       "      <td>96.1285</td>\n",
       "      <td>76.82</td>\n",
       "      <td>86</td>\n",
       "      <td>92</td>\n",
       "      <td>3.49</td>\n",
       "      <td>ID</td>\n",
       "      <td>2021-02-12 22:55:39</td>\n",
       "      <td>overcast clouds</td>\n",
       "    </tr>\n",
       "  </tbody>\n",
       "</table>\n",
       "<p>555 rows × 11 columns</p>\n",
       "</div>"
      ],
      "text/plain": [
       "     City_ID           City      Lat       Lng  Max Temp  Humidity  \\\n",
       "0          0         Barrow  71.2906 -156.7887     -9.40        70   \n",
       "1          1       Griffith  41.5284  -87.4237     18.00        67   \n",
       "2          2      Littleton  39.6133 -105.0166     12.20        57   \n",
       "3          3    Provideniya  64.3833 -173.3000     -1.12        88   \n",
       "4          4      Busselton -33.6500  115.3333     60.01        87   \n",
       "..       ...            ...      ...       ...       ...       ...   \n",
       "550      550    Tsaratanana -16.7833   47.6500     73.42        83   \n",
       "551      551    Capinopolis -18.6819  -49.5697     69.53        92   \n",
       "552      552          Ukiah  39.1502 -123.2078     55.40        67   \n",
       "553      553  New Braunfels  29.7030  -98.1245     34.00        87   \n",
       "554      554       Meulaboh   4.1363   96.1285     76.82        86   \n",
       "\n",
       "     Cloudiness  Wind Speed Country                 Date Current Description  \n",
       "0            90        8.05      US  2021-02-12 22:54:20     overcast clouds  \n",
       "1            40       11.50      US  2021-02-12 22:54:20          light snow  \n",
       "2            75       13.80      US  2021-02-12 22:54:11                haze  \n",
       "3            99       31.52      RU  2021-02-12 22:54:21          light snow  \n",
       "4             1        1.01      AU  2021-02-12 22:54:21           clear sky  \n",
       "..          ...         ...     ...                  ...                 ...  \n",
       "550          99        2.75      MG  2021-02-12 22:55:38          light rain  \n",
       "551         100        6.73      BR  2021-02-12 22:55:38     overcast clouds  \n",
       "552          90       12.66      US  2021-02-12 22:51:11     overcast clouds  \n",
       "553          95        4.00      US  2021-02-12 22:55:39     overcast clouds  \n",
       "554          92        3.49      ID  2021-02-12 22:55:39     overcast clouds  \n",
       "\n",
       "[555 rows x 11 columns]"
      ]
     },
     "execution_count": 22,
     "metadata": {},
     "output_type": "execute_result"
    }
   ],
   "source": [
    "# Store the cities.csv into a dataframe\n",
    "city_data_df = pd.read_csv(\"weather_data/cities.csv\")\n",
    "city_data_df"
   ]
  },
  {
   "cell_type": "code",
   "execution_count": 23,
   "metadata": {},
   "outputs": [
    {
     "data": {
      "text/plain": [
       "City_ID                  int64\n",
       "City                    object\n",
       "Lat                    float64\n",
       "Lng                    float64\n",
       "Max Temp               float64\n",
       "Humidity                 int64\n",
       "Cloudiness               int64\n",
       "Wind Speed             float64\n",
       "Country                 object\n",
       "Date                    object\n",
       "Current Description     object\n",
       "dtype: object"
      ]
     },
     "execution_count": 23,
     "metadata": {},
     "output_type": "execute_result"
    }
   ],
   "source": [
    "# Find out the data type\n",
    "city_data_df.dtypes"
   ]
  },
  {
   "cell_type": "code",
   "execution_count": 24,
   "metadata": {},
   "outputs": [],
   "source": [
    "# Configure gmaps to use my Google API key\n",
    "gmaps.configure(api_key=g_key)"
   ]
  },
  {
   "cell_type": "code",
   "execution_count": 27,
   "metadata": {},
   "outputs": [],
   "source": [
    "# Get the maximum temperature.\n",
    "max_temp = city_data_df[\"Max Temp\"]\n",
    "temps = []\n",
    "for temp in max_temp:\n",
    "    temps.append(max(temp, 0))"
   ]
  },
  {
   "cell_type": "code",
   "execution_count": 33,
   "metadata": {},
   "outputs": [],
   "source": [
    "# Heatmap of temperature\n",
    "# Get the latitude and longitude.\n",
    "locations = city_data_df[[\"Lat\", \"Lng\"]]\n",
    "\n",
    "# Get the maximum temperature.\n",
    "max_temp = city_data_df[\"Max Temp\"]\n",
    "    \n",
    "# Assign the figure variable.\n",
    "fig = gmaps.figure()\n",
    "\n",
    "# Assign the heatmap variable.\n",
    "heat_layer = gmaps.heatmap_layer(locations, weights=temps)\n",
    "# Add the heatmap layer.\n",
    "fig.add_layer(heat_layer)\n",
    "# Call the figure to plot the data.\n",
    "fig = gmaps.figure(center=(30.0, 31.0), zoom_level=1.5)"
   ]
  },
  {
   "cell_type": "code",
   "execution_count": 34,
   "metadata": {},
   "outputs": [
    {
     "data": {
      "application/vnd.jupyter.widget-view+json": {
       "model_id": "d53880d60e7e47519a82ed8cf772556e",
       "version_major": 2,
       "version_minor": 0
      },
      "text/plain": [
       "Figure(layout=FigureLayout(height='420px'))"
      ]
     },
     "metadata": {},
     "output_type": "display_data"
    }
   ],
   "source": [
    "fig"
   ]
  },
  {
   "cell_type": "code",
   "execution_count": 35,
   "metadata": {},
   "outputs": [
    {
     "data": {
      "application/vnd.jupyter.widget-view+json": {
       "model_id": "290a2c8d532d43caa88cfad35e431348",
       "version_major": 2,
       "version_minor": 0
      },
      "text/plain": [
       "Figure(layout=FigureLayout(height='420px'))"
      ]
     },
     "metadata": {},
     "output_type": "display_data"
    }
   ],
   "source": [
    "# Created a percent humidity heatmap\n",
    "# Heatmap of percent humidity\n",
    "locations = city_data_df[[\"Lat\", \"Lng\"]]\n",
    "humidity = city_data_df[\"Humidity\"]\n",
    "fig = gmaps.figure(center=(30.0, 31.0), zoom_level=1.5)\n",
    "heat_layer = gmaps.heatmap_layer(locations, weights=humidity, dissipating=False, max_intensity=300, point_radius=4)\n",
    "\n",
    "fig.add_layer(heat_layer)\n",
    "# Call the figure to plot the data.\n",
    "fig"
   ]
  },
  {
   "cell_type": "code",
   "execution_count": 38,
   "metadata": {},
   "outputs": [
    {
     "data": {
      "application/vnd.jupyter.widget-view+json": {
       "model_id": "1c500c2d5a6c4e83b1d69132a7e5a93d",
       "version_major": 2,
       "version_minor": 0
      },
      "text/plain": [
       "Figure(layout=FigureLayout(height='420px'))"
      ]
     },
     "metadata": {},
     "output_type": "display_data"
    }
   ],
   "source": [
    "# Created a wind speed map\n",
    "locations = city_data_df[[\"Lat\", \"Lng\"]]\n",
    "wind = city_data_df[\"Wind Speed\"]\n",
    "fig = gmaps.figure(center=(30.0, 31.0), zoom_level=1.5)\n",
    "heat_layer = gmaps.heatmap_layer(locations, weights=wind, dissipating=False, max_intensity=300,point_radius=4)\n",
    "\n",
    "fig.add_layer(heat_layer)\n",
    "# Call the fig\n",
    "fig"
   ]
  },
  {
   "cell_type": "code",
   "execution_count": null,
   "metadata": {},
   "outputs": [],
   "source": []
  }
 ],
 "metadata": {
  "kernelspec": {
   "display_name": "myenv",
   "language": "python",
   "name": "myenv"
  },
  "language_info": {
   "codemirror_mode": {
    "name": "ipython",
    "version": 3
   },
   "file_extension": ".py",
   "mimetype": "text/x-python",
   "name": "python",
   "nbconvert_exporter": "python",
   "pygments_lexer": "ipython3",
   "version": "3.8.3"
  }
 },
 "nbformat": 4,
 "nbformat_minor": 4
}
